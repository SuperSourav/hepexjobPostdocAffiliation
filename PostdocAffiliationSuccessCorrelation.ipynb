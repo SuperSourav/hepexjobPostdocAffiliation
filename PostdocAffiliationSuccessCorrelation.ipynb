{
 "cells": [
  {
   "cell_type": "markdown",
   "metadata": {},
   "source": [
    "# hep-ex postdoc's affiliation an indicator of success in academia? "
   ]
  },
  {
   "cell_type": "code",
   "execution_count": 1,
   "metadata": {},
   "outputs": [
    {
     "data": {
      "text/html": [
       "<style type=\"text/css\">\n",
       "table.dataframe td, table.dataframe th {\n",
       "    border: 1px  black solid !important;\n",
       "  color: black !important;\n",
       "}\n",
       "</style>"
      ],
      "text/plain": [
       "<IPython.core.display.HTML object>"
      ]
     },
     "metadata": {},
     "output_type": "display_data"
    }
   ],
   "source": [
    "%%HTML\n",
    "<style type=\"text/css\">\n",
    "table.dataframe td, table.dataframe th {\n",
    "    border: 1px  black solid !important;\n",
    "  color: black !important;\n",
    "}\n",
    "</style>"
   ]
  },
  {
   "cell_type": "markdown",
   "metadata": {},
   "source": [
    "<img src=\"http://phdcomics.com/comics/archive/phd082313s.gif\">"
   ]
  },
  {
   "cell_type": "markdown",
   "metadata": {},
   "source": [
    "As an experimental High Energy Physics (hep-ex) grad student, I often wonder which university/national lab's postdoc would increase my odds of getting a faculty position, if I plan to stay in academia. But unlike other sub-fields in Physics, we have huge world-wide collaborations for hep-ex experiments like the Large Hadron Collider. So it is not very straightforward to conceive the contribution of a postdoc's affiliation in one's future success in getting an academic position and some might even argue that there is no such correlation. This has prompted me to put this hypothesis to test. So, let's explore whether there is indeed any correlation between a postdoc's affiliation and future success in finding an academic faculty position, in hep-ex."
   ]
  },
  {
   "cell_type": "code",
   "execution_count": 2,
   "metadata": {},
   "outputs": [],
   "source": [
    "import re\n",
    "import pandas as pd\n",
    "import numpy as np\n",
    "import matplotlib.pyplot as plt\n",
    "%matplotlib inline\n",
    "from sklearn.linear_model import LogisticRegression"
   ]
  },
  {
   "cell_type": "markdown",
   "metadata": {},
   "source": [
    "## Data collection\n",
    "\n",
    "hepexrumor (https://sites.google.com/site/hepexrumor/) is a popular unofficial site which has latest rumors about the hep-ex jobs (in the US and ouside). I parse this website for getting the job rumors from 2005-2019. For this short study, I did not consider temporal variation in job patterns and combined the data of all the years.\n",
    "\n",
    "I use the latest affiliation of a postdoc while applying for job. I only consider the postdocs who cleared the short-list round for a job as the total candidate pool, with a presumptuous assumption that postdocs not clearing the shortlist were not serious candidates for the job."
   ]
  },
  {
   "cell_type": "markdown",
   "metadata": {},
   "source": [
    "Parsing hepexrumor:"
   ]
  },
  {
   "cell_type": "code",
   "execution_count": 3,
   "metadata": {},
   "outputs": [
    {
     "name": "stdout",
     "output_type": "stream",
     "text": [
      "2005 4\n",
      "2006 4\n",
      "2007 4\n",
      "2008 4\n",
      "2009 4\n",
      "2010 4\n",
      "2011 4\n",
      "2012 4\n",
      "2013 4\n",
      "2014 4\n",
      "2015 4\n",
      "2016 6\n",
      "2017 6\n",
      "2018 6\n",
      "2019 6\n"
     ]
    }
   ],
   "source": [
    "hepexjobsite = 'https://sites.google.com/site/hepexrumor/'\n",
    "year = {2005: '2005-rumor'  ,\n",
    "        2006: '2006-rumor'  ,\n",
    "        2007: '2007-rumor'  ,\n",
    "        2008: '2008-rumor'  ,\n",
    "        2009: '2009-rumor-1',\n",
    "        2010: '2009-rumor'  ,\n",
    "        2011: '2011-rumors' ,\n",
    "        2012: '2012-rumors' ,\n",
    "        2013: '2013-rumors' ,\n",
    "        2014: '2014-rumors' ,\n",
    "        2015: '2015-rumors' ,\n",
    "        2016: '2016-rumors' ,\n",
    "        2017: '2016-2017'   ,\n",
    "        2018: '2018-rumors' ,\n",
    "        2019: '2019-rumors' }\n",
    "df = {}\n",
    "for i in range(2005,2020):\n",
    "    p = pd.read_html(hepexjobsite+year[i])\n",
    "    print(i, len(p))\n",
    "    if (i < 2016 ):\n",
    "        tUS = p[3].iloc[1:]\n",
    "        tUS.columns = p[3].iloc[0]\n",
    "    else:\n",
    "        tnonUS = p[4].iloc[1:]\n",
    "        tnonUS.columns = p[4].iloc[0]\n",
    "        tnonUS = tnonUS.drop(columns=['Field'])\n",
    "        tUS = p[5].iloc[1:]\n",
    "        tUS.columns = p[5].iloc[0]\n",
    "        tUS = tUS.drop(columns=['Field'])\n",
    "        tUS.append(tnonUS, ignore_index=True)\n",
    "    tUS.columns = [\"Institution\", \"Short List\", \"Offers\"]\n",
    "    df[i] = tUS"
   ]
  },
  {
   "cell_type": "code",
   "execution_count": 4,
   "metadata": {},
   "outputs": [
    {
     "data": {
      "text/html": [
       "<div>\n",
       "<style scoped>\n",
       "    .dataframe tbody tr th:only-of-type {\n",
       "        vertical-align: middle;\n",
       "    }\n",
       "\n",
       "    .dataframe tbody tr th {\n",
       "        vertical-align: top;\n",
       "    }\n",
       "\n",
       "    .dataframe thead th {\n",
       "        text-align: right;\n",
       "    }\n",
       "</style>\n",
       "<table border=\"1\" class=\"dataframe\">\n",
       "  <thead>\n",
       "    <tr style=\"text-align: right;\">\n",
       "      <th></th>\n",
       "      <th>Institution</th>\n",
       "      <th>Short List</th>\n",
       "      <th>Offers</th>\n",
       "    </tr>\n",
       "  </thead>\n",
       "  <tbody>\n",
       "    <tr>\n",
       "      <td>1</td>\n",
       "      <td>Nebraska</td>\n",
       "      <td>Jamie Antonelli (Ohio State) [CMS] Clemens Lan...</td>\n",
       "      <td>Frank Golf (accepted)</td>\n",
       "    </tr>\n",
       "    <tr>\n",
       "      <td>2</td>\n",
       "      <td>Wilson Fellowship</td>\n",
       "      <td>Joseph Zennamo (Chicago) [MicroBooNE, SBND] Mi...</td>\n",
       "      <td>Minerba Betancourt (accepted) Nhan Tran (accep...</td>\n",
       "    </tr>\n",
       "    <tr>\n",
       "      <td>3</td>\n",
       "      <td>Alabama</td>\n",
       "      <td>Carl Pfendner (Ohio State) [ARA, EVA]</td>\n",
       "      <td>NaN</td>\n",
       "    </tr>\n",
       "    <tr>\n",
       "      <td>4</td>\n",
       "      <td>Cornell (accelerators)</td>\n",
       "      <td>NaN</td>\n",
       "      <td>NaN</td>\n",
       "    </tr>\n",
       "    <tr>\n",
       "      <td>5</td>\n",
       "      <td>Brookhaven</td>\n",
       "      <td>John Alison (Chicago) [ATLAS] Viviana Cavalier...</td>\n",
       "      <td>Viviana Cavaliere (accepted)</td>\n",
       "    </tr>\n",
       "  </tbody>\n",
       "</table>\n",
       "</div>"
      ],
      "text/plain": [
       "              Institution                                         Short List  \\\n",
       "1                Nebraska  Jamie Antonelli (Ohio State) [CMS] Clemens Lan...   \n",
       "2       Wilson Fellowship  Joseph Zennamo (Chicago) [MicroBooNE, SBND] Mi...   \n",
       "3                 Alabama              Carl Pfendner (Ohio State) [ARA, EVA]   \n",
       "4  Cornell (accelerators)                                                NaN   \n",
       "5              Brookhaven  John Alison (Chicago) [ATLAS] Viviana Cavalier...   \n",
       "\n",
       "                                              Offers  \n",
       "1                              Frank Golf (accepted)  \n",
       "2  Minerba Betancourt (accepted) Nhan Tran (accep...  \n",
       "3                                                NaN  \n",
       "4                                                NaN  \n",
       "5                       Viviana Cavaliere (accepted)  "
      ]
     },
     "execution_count": 4,
     "metadata": {},
     "output_type": "execute_result"
    }
   ],
   "source": [
    "df[2017].head()"
   ]
  },
  {
   "cell_type": "markdown",
   "metadata": {},
   "source": [
    "## Data cleaning\n",
    "\n",
    "There is ambiguity associated to the names of some of the universities and labs, like Fermilab is listed as 'Fermilab' in some places and 'FNAL' elsewhere. The function below removes this ambiguity by replacing the ambiguous names to a standard name for the organizations:"
   ]
  },
  {
   "cell_type": "code",
   "execution_count": 5,
   "metadata": {},
   "outputs": [],
   "source": [
    "def UniNameAmbiguityFix(dfk): \n",
    "    Uni_name_ambiguity = {'Argonne': 'ANL',\n",
    "                          'Boston University': 'Boston U',\n",
    "                          'BU': 'Boston U',\n",
    "                          'Brown University': 'Brown',\n",
    "                          'Cal Tech': 'Caltech',\n",
    "                          'Carnegie': 'Carnegie Mellon',\n",
    "                          'Colorado State University': 'Colorado State',\n",
    "                          'Fermilab': 'FNAL',\n",
    "                          'FNAL/Chicago': 'FNAL',\n",
    "                          'Industry/Fermilab': 'FNAL',\n",
    "                          'Chicago/FNAL': 'FNAL',\n",
    "                          'Göttingen': 'Gottingen',\n",
    "                          'Imperial': 'Imperial College London',\n",
    "                          'Indiana': 'Indiana University', \n",
    "                          'KSU': 'Kansas State',\n",
    "                          'Los Alamos': 'LANL',\n",
    "                          'LBL': 'LBNL',\n",
    "                          'MSU': 'Michigan State', \n",
    "                          'Northeastern University': 'Northeastern',\n",
    "                          'Northwestern University': 'Northwestern',\n",
    "                          'OSU': 'Ohio State',\n",
    "                          'SUNY Stony Brook': 'Stony Brook',\n",
    "                          'Texas A&M': 'TAMU',\n",
    "                          'Triumf': 'TRIUMF',\n",
    "                          'U Chicago': 'UChicago',\n",
    "                          'Chicago': 'UChicago',\n",
    "                          'University of Chicago': 'UChicago',\n",
    "                          'Berkeley': 'UC Berkeley',\n",
    "                          'University of Colorado Boulder': 'UC Boulder',\n",
    "                          'CU Boulder': 'UC Boulder',\n",
    "                          'Colorado': 'UC Boulder',\n",
    "                          'Davis': 'UC Davis',\n",
    "                          'Irvine': 'UC Irvine',\n",
    "                          'UCSD': 'UC San Diego',\n",
    "                          'UCSB': 'UC Santa Barbara',\n",
    "                          'UCSC': 'UC Santa Cruz',\n",
    "                          'UIC': 'University of Illinois Chicago',\n",
    "                          'University of Illinois Urbana-Champaign': 'UIUC',\n",
    "                          'University of North Carolina': 'UNC',\n",
    "                          'University of Pennsylvania': 'UPenn',\n",
    "                          'University of Texas Austin': 'UT Austin', \n",
    "                          'Florida': 'University of Florida',\n",
    "                          'Geneva': 'University of Geneva',\n",
    "                          'Hawaii': 'University of Hawaii',\n",
    "                          'Maryland': 'University of Maryland', \n",
    "                          'Michigan': 'University of Michigan',\n",
    "                          'Minnesota': 'University of Minnesota',\n",
    "                          'Sheffield': 'University of Sheffield',\n",
    "                          'Victoria': 'University of Victoria',\n",
    "                          'Virginia': 'University of Virginia',\n",
    "                          'Washington': 'University of Washington',\n",
    "                          'University of Wisconsin Madison': 'UW Madison',\n",
    "                          'Wisconsin': 'UW Madison',\n",
    "                          'UW': 'UW Madison',\n",
    "                          'UW-Madison': 'UW Madison'}\n",
    "    Uni_name_ambiguity.keys()\n",
    "    dfk = dfk.replace({'Affiliation': Uni_name_ambiguity})\n",
    "    dfk = dfk.groupby(['Applicant', 'Affiliation'])['Attempts'].sum().reset_index()\n",
    "    return dfk"
   ]
  },
  {
   "cell_type": "markdown",
   "metadata": {},
   "source": [
    "### Applicant stats"
   ]
  },
  {
   "cell_type": "markdown",
   "metadata": {},
   "source": [
    "Extracting tables for applicant job performance (along with their latest affiliation at the time of job application) from tables for job results."
   ]
  },
  {
   "cell_type": "code",
   "execution_count": 6,
   "metadata": {},
   "outputs": [],
   "source": [
    "ApplicantTable = {}\n",
    "for i in range(2005, 2020):\n",
    "    attempt = df[i]['Short List'].str.split(\"\\)\", expand=True)\n",
    "    attempt = attempt.unstack()\n",
    "    attempt = attempt.str.split(r\"\\[.*?\\]\").str.join('')\n",
    "    attempt = attempt.str.strip()\n",
    "    attempt = attempt.value_counts()\n",
    "    attempt = attempt.to_frame()\n",
    "    attempt.reset_index(level=0, inplace=True)\n",
    "    attempt.columns = ['Applicant', 'Attempts']\n",
    "    attemptTable = attempt['Applicant'].str.split('(', expand=True)\n",
    "    attemptTable.columns = ['Applicant', 'Affiliation']\n",
    "    attemptTable['Attempts'] = attempt['Attempts']\n",
    "    attemptTable = attemptTable.iloc[1:]\n",
    "    indexDrop = attemptTable[attemptTable['Applicant'].str.contains(\"\\)\" or \"\\(\" or \"[\" or \"]\")].index\n",
    "    attemptTable.drop(indexDrop , inplace=True)\n",
    "    attemptTable.Affiliation.str.strip()\n",
    "    attemptTable = UniNameAmbiguityFix(attemptTable)\n",
    "\n",
    "    offerTable = df[i]['Offers'].str.split(r\"\\(.*?\\)\", expand=True)\n",
    "    offerTable = offerTable.unstack()\n",
    "    offerTable = offerTable.str.strip()\n",
    "    offerTable = offerTable.value_counts()\n",
    "    offerTable = offerTable.to_frame()\n",
    "    offerTable.reset_index(level=0, inplace=True)\n",
    "    offerTable.columns = ['Applicant', 'Offers']\n",
    "    offerTable['Applicant'] = offerTable['Applicant'].str.replace(u'† \\xa0', u'')\n",
    "    offerTable = offerTable.iloc[1:]\n",
    "\n",
    "    attemptTable.Applicant = attemptTable.Applicant.str.strip()\n",
    "    offerTable.Applicant   = offerTable.Applicant.str.strip()\n",
    "\n",
    "    ApplicantTable[i] = attemptTable.merge(offerTable, how='left', left_on='Applicant', right_on='Applicant')\n",
    "    ApplicantTable[i] = ApplicantTable[i].fillna(0)\n",
    "    ApplicantTable[i].Offers = ApplicantTable[i].Offers.astype(int)\n",
    "    #applicants with no affiliations listed are dropped\n",
    "    ApplicantTable[i].drop(ApplicantTable[i][ApplicantTable[i]['Affiliation'].str.strip() == \"\"].index , inplace=True)\n",
    "    #blank applicant dropped\n",
    "    ApplicantTable[i].drop(ApplicantTable[i][ApplicantTable[i]['Applicant'].str.strip() == \"\"].index , inplace=True)\n",
    "    #theory or non-hep jobs to be dropped\n",
    "    ApplicantTable[i].drop(ApplicantTable[i][ApplicantTable[i]['Applicant'].str.lower().str.contains('theory')].index , inplace=True)\n",
    "    ApplicantTable[i].drop(ApplicantTable[i][ApplicantTable[i]['Applicant'].str.lower().str.contains('hep')].index , inplace=True)\n",
    "    ApplicantTable[i].drop(ApplicantTable[i][ApplicantTable[i]['Affiliation'] == 'IAS'].index , inplace=True)\n",
    "    ApplicantTable[i].drop(ApplicantTable[i][ApplicantTable[i]['Affiliation'] == 'theory'].index , inplace=True)\n",
    "    #other misc. cleaning\n",
    "    ApplicantTable[i].drop(ApplicantTable[i][ApplicantTable[i]['Affiliation'] == 'notes below'].index , inplace=True)\n",
    "    ApplicantTable[i].drop(ApplicantTable[i][ApplicantTable[i]['Affiliation'] == 'Ultralytics'].index , inplace=True)\n",
    "    \n",
    "    ApplicantTable[i] = ApplicantTable[i].sort_values(by=['Offers', 'Attempts'], ascending=False)\n",
    "    ApplicantTable[i]"
   ]
  },
  {
   "cell_type": "code",
   "execution_count": 7,
   "metadata": {},
   "outputs": [
    {
     "data": {
      "text/html": [
       "<div>\n",
       "<style scoped>\n",
       "    .dataframe tbody tr th:only-of-type {\n",
       "        vertical-align: middle;\n",
       "    }\n",
       "\n",
       "    .dataframe tbody tr th {\n",
       "        vertical-align: top;\n",
       "    }\n",
       "\n",
       "    .dataframe thead th {\n",
       "        text-align: right;\n",
       "    }\n",
       "</style>\n",
       "<table border=\"1\" class=\"dataframe\">\n",
       "  <thead>\n",
       "    <tr style=\"text-align: right;\">\n",
       "      <th></th>\n",
       "      <th>Applicant</th>\n",
       "      <th>Affiliation</th>\n",
       "      <th>Attempts</th>\n",
       "      <th>Offers</th>\n",
       "    </tr>\n",
       "  </thead>\n",
       "  <tbody>\n",
       "    <tr>\n",
       "      <td>67</td>\n",
       "      <td>Joshua Spitz</td>\n",
       "      <td>MIT</td>\n",
       "      <td>7</td>\n",
       "      <td>2</td>\n",
       "    </tr>\n",
       "    <tr>\n",
       "      <td>5</td>\n",
       "      <td>Alex Himmel</td>\n",
       "      <td>Duke</td>\n",
       "      <td>5</td>\n",
       "      <td>2</td>\n",
       "    </tr>\n",
       "    <tr>\n",
       "      <td>77</td>\n",
       "      <td>Laura Fields</td>\n",
       "      <td>Northwestern</td>\n",
       "      <td>4</td>\n",
       "      <td>2</td>\n",
       "    </tr>\n",
       "    <tr>\n",
       "      <td>90</td>\n",
       "      <td>Matt Wetstein</td>\n",
       "      <td>UChicago</td>\n",
       "      <td>4</td>\n",
       "      <td>2</td>\n",
       "    </tr>\n",
       "    <tr>\n",
       "      <td>12</td>\n",
       "      <td>Andrzej Szelc</td>\n",
       "      <td>Yale</td>\n",
       "      <td>2</td>\n",
       "      <td>2</td>\n",
       "    </tr>\n",
       "  </tbody>\n",
       "</table>\n",
       "</div>"
      ],
      "text/plain": [
       "        Applicant   Affiliation  Attempts  Offers\n",
       "67   Joshua Spitz           MIT         7       2\n",
       "5     Alex Himmel          Duke         5       2\n",
       "77   Laura Fields  Northwestern         4       2\n",
       "90  Matt Wetstein      UChicago         4       2\n",
       "12  Andrzej Szelc          Yale         2       2"
      ]
     },
     "execution_count": 7,
     "metadata": {},
     "output_type": "execute_result"
    }
   ],
   "source": [
    "ApplicantTable[2015].head()"
   ]
  },
  {
   "cell_type": "markdown",
   "metadata": {},
   "source": [
    "Combining data of all the years. I define a success as getting at least one job offer, ie assign an applicant success = 1. With no offers at all, I define the (short-listed) candidate to be unsuccessful, ie assign the applicant success = 0."
   ]
  },
  {
   "cell_type": "code",
   "execution_count": 8,
   "metadata": {},
   "outputs": [
    {
     "data": {
      "text/html": [
       "<div>\n",
       "<style scoped>\n",
       "    .dataframe tbody tr th:only-of-type {\n",
       "        vertical-align: middle;\n",
       "    }\n",
       "\n",
       "    .dataframe tbody tr th {\n",
       "        vertical-align: top;\n",
       "    }\n",
       "\n",
       "    .dataframe thead th {\n",
       "        text-align: right;\n",
       "    }\n",
       "</style>\n",
       "<table border=\"1\" class=\"dataframe\">\n",
       "  <thead>\n",
       "    <tr style=\"text-align: right;\">\n",
       "      <th></th>\n",
       "      <th>Applicant</th>\n",
       "      <th>Affiliation</th>\n",
       "      <th>Attempts</th>\n",
       "      <th>Offers</th>\n",
       "      <th>Success</th>\n",
       "    </tr>\n",
       "  </thead>\n",
       "  <tbody>\n",
       "    <tr>\n",
       "      <td>219</td>\n",
       "      <td>Florencia Canelli</td>\n",
       "      <td>FNAL</td>\n",
       "      <td>15</td>\n",
       "      <td>7</td>\n",
       "      <td>1</td>\n",
       "    </tr>\n",
       "    <tr>\n",
       "      <td>570</td>\n",
       "      <td>Sabine Lammers</td>\n",
       "      <td>Columbia</td>\n",
       "      <td>7</td>\n",
       "      <td>5</td>\n",
       "      <td>1</td>\n",
       "    </tr>\n",
       "    <tr>\n",
       "      <td>85</td>\n",
       "      <td>Ben Kilminster</td>\n",
       "      <td>Ohio State</td>\n",
       "      <td>8</td>\n",
       "      <td>4</td>\n",
       "      <td>1</td>\n",
       "    </tr>\n",
       "    <tr>\n",
       "      <td>114</td>\n",
       "      <td>Carter Hall</td>\n",
       "      <td>SLAC</td>\n",
       "      <td>5</td>\n",
       "      <td>4</td>\n",
       "      <td>1</td>\n",
       "    </tr>\n",
       "    <tr>\n",
       "      <td>214</td>\n",
       "      <td>Eva Halkiadakis</td>\n",
       "      <td>Rochester</td>\n",
       "      <td>9</td>\n",
       "      <td>3</td>\n",
       "      <td>1</td>\n",
       "    </tr>\n",
       "    <tr>\n",
       "      <td>...</td>\n",
       "      <td>...</td>\n",
       "      <td>...</td>\n",
       "      <td>...</td>\n",
       "      <td>...</td>\n",
       "      <td>...</td>\n",
       "    </tr>\n",
       "    <tr>\n",
       "      <td>678</td>\n",
       "      <td>Yoshikazu Nagai</td>\n",
       "      <td>UC Boulder</td>\n",
       "      <td>1</td>\n",
       "      <td>0</td>\n",
       "      <td>0</td>\n",
       "    </tr>\n",
       "    <tr>\n",
       "      <td>683</td>\n",
       "      <td>Yusuke Koshio</td>\n",
       "      <td>University of Tokyo</td>\n",
       "      <td>1</td>\n",
       "      <td>0</td>\n",
       "      <td>0</td>\n",
       "    </tr>\n",
       "    <tr>\n",
       "      <td>685</td>\n",
       "      <td>Zarko Pavlovic</td>\n",
       "      <td>LANL</td>\n",
       "      <td>1</td>\n",
       "      <td>0</td>\n",
       "      <td>0</td>\n",
       "    </tr>\n",
       "    <tr>\n",
       "      <td>687</td>\n",
       "      <td>Zeynep Demeragli</td>\n",
       "      <td>MIT</td>\n",
       "      <td>1</td>\n",
       "      <td>0</td>\n",
       "      <td>0</td>\n",
       "    </tr>\n",
       "    <tr>\n",
       "      <td>689</td>\n",
       "      <td>Zhengyun You</td>\n",
       "      <td>UC Irvine</td>\n",
       "      <td>1</td>\n",
       "      <td>0</td>\n",
       "      <td>0</td>\n",
       "    </tr>\n",
       "  </tbody>\n",
       "</table>\n",
       "<p>693 rows × 5 columns</p>\n",
       "</div>"
      ],
      "text/plain": [
       "             Applicant          Affiliation  Attempts  Offers  Success\n",
       "219  Florencia Canelli                 FNAL        15       7        1\n",
       "570     Sabine Lammers             Columbia         7       5        1\n",
       "85      Ben Kilminster           Ohio State         8       4        1\n",
       "114        Carter Hall                 SLAC         5       4        1\n",
       "214    Eva Halkiadakis            Rochester         9       3        1\n",
       "..                 ...                  ...       ...     ...      ...\n",
       "678    Yoshikazu Nagai           UC Boulder         1       0        0\n",
       "683      Yusuke Koshio  University of Tokyo         1       0        0\n",
       "685     Zarko Pavlovic                 LANL         1       0        0\n",
       "687   Zeynep Demeragli                  MIT         1       0        0\n",
       "689       Zhengyun You            UC Irvine         1       0        0\n",
       "\n",
       "[693 rows x 5 columns]"
      ]
     },
     "execution_count": 8,
     "metadata": {},
     "output_type": "execute_result"
    }
   ],
   "source": [
    "ApplicantTableAllYears = pd.concat(ApplicantTable, ignore_index=True)\n",
    "ApplicantTableAllYears = ApplicantTableAllYears.groupby(['Applicant', 'Affiliation'])['Attempts', 'Offers'].sum().reset_index()\n",
    "ApplicantTableAllYears = ApplicantTableAllYears.sort_values(by=['Offers', 'Attempts'], ascending=False)\n",
    "ApplicantTableAllYears['Success'] = (ApplicantTableAllYears['Offers'] > 0).astype(int)\n",
    "ApplicantTableAllYears"
   ]
  },
  {
   "cell_type": "markdown",
   "metadata": {},
   "source": [
    "### How to rank University/lab (employing postdocs) in terms of their postdocs success?"
   ]
  },
  {
   "cell_type": "markdown",
   "metadata": {},
   "source": [
    "To assess the average quality of postdocs in an organization (affiliation), I add a Offers/candidate metric. Total offers also give an estimate of the success of the affiliation. I use these two university metrics to rank the universities/labs to produce successful candidates affiliated to them (first priority given to Total Offers, and then to Offers/candidate)."
   ]
  },
  {
   "cell_type": "code",
   "execution_count": 9,
   "metadata": {},
   "outputs": [
    {
     "data": {
      "text/html": [
       "<div>\n",
       "<style scoped>\n",
       "    .dataframe tbody tr th:only-of-type {\n",
       "        vertical-align: middle;\n",
       "    }\n",
       "\n",
       "    .dataframe tbody tr th {\n",
       "        vertical-align: top;\n",
       "    }\n",
       "\n",
       "    .dataframe thead th {\n",
       "        text-align: right;\n",
       "    }\n",
       "</style>\n",
       "<table border=\"1\" class=\"dataframe\">\n",
       "  <thead>\n",
       "    <tr style=\"text-align: right;\">\n",
       "      <th></th>\n",
       "      <th>Affiliation</th>\n",
       "      <th>Total Offers</th>\n",
       "      <th>Total successful candidates</th>\n",
       "      <th>Total unsuccessful candidates</th>\n",
       "      <th>Offers/candidate</th>\n",
       "      <th>Rank</th>\n",
       "    </tr>\n",
       "  </thead>\n",
       "  <tbody>\n",
       "    <tr>\n",
       "      <td>32</td>\n",
       "      <td>FNAL</td>\n",
       "      <td>58</td>\n",
       "      <td>39</td>\n",
       "      <td>26</td>\n",
       "      <td>0.892308</td>\n",
       "      <td>1</td>\n",
       "    </tr>\n",
       "    <tr>\n",
       "      <td>56</td>\n",
       "      <td>LBNL</td>\n",
       "      <td>23</td>\n",
       "      <td>20</td>\n",
       "      <td>12</td>\n",
       "      <td>0.718750</td>\n",
       "      <td>2</td>\n",
       "    </tr>\n",
       "    <tr>\n",
       "      <td>120</td>\n",
       "      <td>UChicago</td>\n",
       "      <td>25</td>\n",
       "      <td>17</td>\n",
       "      <td>10</td>\n",
       "      <td>0.925926</td>\n",
       "      <td>3</td>\n",
       "    </tr>\n",
       "    <tr>\n",
       "      <td>15</td>\n",
       "      <td>CERN</td>\n",
       "      <td>16</td>\n",
       "      <td>15</td>\n",
       "      <td>29</td>\n",
       "      <td>0.363636</td>\n",
       "      <td>4</td>\n",
       "    </tr>\n",
       "    <tr>\n",
       "      <td>24</td>\n",
       "      <td>Columbia</td>\n",
       "      <td>19</td>\n",
       "      <td>12</td>\n",
       "      <td>3</td>\n",
       "      <td>1.266667</td>\n",
       "      <td>5</td>\n",
       "    </tr>\n",
       "    <tr>\n",
       "      <td>...</td>\n",
       "      <td>...</td>\n",
       "      <td>...</td>\n",
       "      <td>...</td>\n",
       "      <td>...</td>\n",
       "      <td>...</td>\n",
       "      <td>...</td>\n",
       "    </tr>\n",
       "    <tr>\n",
       "      <td>138</td>\n",
       "      <td>University of Sussex</td>\n",
       "      <td>0</td>\n",
       "      <td>0</td>\n",
       "      <td>1</td>\n",
       "      <td>0.000000</td>\n",
       "      <td>145</td>\n",
       "    </tr>\n",
       "    <tr>\n",
       "      <td>139</td>\n",
       "      <td>University of Tokyo</td>\n",
       "      <td>0</td>\n",
       "      <td>0</td>\n",
       "      <td>1</td>\n",
       "      <td>0.000000</td>\n",
       "      <td>146</td>\n",
       "    </tr>\n",
       "    <tr>\n",
       "      <td>140</td>\n",
       "      <td>University of Victoria</td>\n",
       "      <td>0</td>\n",
       "      <td>0</td>\n",
       "      <td>2</td>\n",
       "      <td>0.000000</td>\n",
       "      <td>147</td>\n",
       "    </tr>\n",
       "    <tr>\n",
       "      <td>145</td>\n",
       "      <td>Western Illinois</td>\n",
       "      <td>0</td>\n",
       "      <td>0</td>\n",
       "      <td>1</td>\n",
       "      <td>0.000000</td>\n",
       "      <td>148</td>\n",
       "    </tr>\n",
       "    <tr>\n",
       "      <td>146</td>\n",
       "      <td>William and Mary</td>\n",
       "      <td>0</td>\n",
       "      <td>0</td>\n",
       "      <td>1</td>\n",
       "      <td>0.000000</td>\n",
       "      <td>149</td>\n",
       "    </tr>\n",
       "  </tbody>\n",
       "</table>\n",
       "<p>149 rows × 6 columns</p>\n",
       "</div>"
      ],
      "text/plain": [
       "                Affiliation  Total Offers  Total successful candidates  \\\n",
       "32                     FNAL            58                           39   \n",
       "56                     LBNL            23                           20   \n",
       "120                UChicago            25                           17   \n",
       "15                     CERN            16                           15   \n",
       "24                 Columbia            19                           12   \n",
       "..                      ...           ...                          ...   \n",
       "138    University of Sussex             0                            0   \n",
       "139     University of Tokyo             0                            0   \n",
       "140  University of Victoria             0                            0   \n",
       "145        Western Illinois             0                            0   \n",
       "146        William and Mary             0                            0   \n",
       "\n",
       "     Total unsuccessful candidates  Offers/candidate  Rank  \n",
       "32                              26          0.892308     1  \n",
       "56                              12          0.718750     2  \n",
       "120                             10          0.925926     3  \n",
       "15                              29          0.363636     4  \n",
       "24                               3          1.266667     5  \n",
       "..                             ...               ...   ...  \n",
       "138                              1          0.000000   145  \n",
       "139                              1          0.000000   146  \n",
       "140                              2          0.000000   147  \n",
       "145                              1          0.000000   148  \n",
       "146                              1          0.000000   149  \n",
       "\n",
       "[149 rows x 6 columns]"
      ]
     },
     "execution_count": 9,
     "metadata": {},
     "output_type": "execute_result"
    }
   ],
   "source": [
    "UniversityTableAllYears = ApplicantTableAllYears.drop(columns=['Applicant', 'Attempts'])\n",
    "UniversityTableAllYears['Failure'] = (UniversityTableAllYears['Offers'] == 0).astype(int)\n",
    "UniversityTableAllYears = UniversityTableAllYears.groupby(['Affiliation'])['Offers', 'Success', 'Failure'].sum().reset_index()\n",
    "UniversityTableAllYears['Offers/candidate'] = UniversityTableAllYears['Offers']*1./(UniversityTableAllYears['Success'] + UniversityTableAllYears['Failure'])\n",
    "UniversityTableAllYears.columns = ['Affiliation', 'Total Offers', 'Total successful candidates', 'Total unsuccessful candidates', 'Offers/candidate']\n",
    "UniversityTableAllYears = UniversityTableAllYears.sort_values(by=['Total successful candidates', 'Offers/candidate'], ascending=False)\n",
    "UniversityTableAllYears['Rank'] = np.arange(1,150)\n",
    "UniversityTableAllYears"
   ]
  },
  {
   "cell_type": "markdown",
   "metadata": {},
   "source": [
    "Candidates with at least one offer are counted as successful, while ones with no offer are counted as unsuccessful candidates."
   ]
  },
  {
   "cell_type": "markdown",
   "metadata": {},
   "source": [
    "## Data visualization"
   ]
  },
  {
   "cell_type": "code",
   "execution_count": 10,
   "metadata": {},
   "outputs": [
    {
     "data": {
      "image/png": "[encoded data removed]",
      "text/plain": [
       "<Figure size 432x288 with 1 Axes>"
      ]
     },
     "metadata": {},
     "output_type": "display_data"
    }
   ],
   "source": [
    "plt.style.use('ggplot')\n",
    "x_pos = [i for i, _ in enumerate(UniversityTableAllYears['Affiliation'].iloc[:5])]\n",
    "\n",
    "plt.bar(x_pos, UniversityTableAllYears['Total successful candidates'].iloc[:5], color='green')\n",
    "plt.xlabel(\"Postdoc affiliation\")\n",
    "plt.ylabel(\"Total successful candidates\")\n",
    "plt.title(\"Best 5 postdoc affiliations which produced largest number of successful candidates (from 2005-2019)\")\n",
    "\n",
    "plt.xticks(x_pos, UniversityTableAllYears['Affiliation'].iloc[:5])\n",
    "\n",
    "plt.show()"
   ]
  },
  {
   "cell_type": "code",
   "execution_count": 11,
   "metadata": {},
   "outputs": [
    {
     "data": {
      "image/png": "[encoded data removed]",
      "text/plain": [
       "<Figure size 432x288 with 1 Axes>"
      ]
     },
     "metadata": {},
     "output_type": "display_data"
    }
   ],
   "source": [
    "UniversityTableAllYearsBestOfferRate = UniversityTableAllYears.sort_values(by=['Offers/candidate'], ascending=False)\n",
    "\n",
    "plt.style.use('ggplot')\n",
    "x_pos = [i for i, _ in enumerate(UniversityTableAllYearsBestOfferRate['Affiliation'].iloc[:5])]\n",
    "\n",
    "plt.bar(x_pos, UniversityTableAllYearsBestOfferRate['Offers/candidate'].iloc[:5], color='green')\n",
    "plt.xlabel(\"Postdoc affiliation\")\n",
    "plt.ylabel(\"Avg. offer per candidate\")\n",
    "plt.title(\"Best 5 postdoc affiliations which have highest offers per candidate (from 2005-2019)\")\n",
    "\n",
    "plt.xticks(x_pos, UniversityTableAllYearsBestOfferRate['Affiliation'].iloc[:5])\n",
    "\n",
    "plt.show()"
   ]
  },
  {
   "cell_type": "markdown",
   "metadata": {},
   "source": [
    "## Success of postdocs w.r.t their affiliation's (university/lab's) metrics"
   ]
  },
  {
   "cell_type": "markdown",
   "metadata": {},
   "source": [
    "In addition to the binary metric of at least one offer as success, I add another candidate metric - Success odds. Success odds = (total offers)/(total attempts - total offers) for a candidate. The correlation between candidate metrics and university/lab (affiliation) metrics is of interest, as it gives an intuition about the spead of department's success metrics over its postdocs. Are there some good/bad postdocs who skew their affiliation's (university's) success metric or are all the postdocs in general doing similarly from that university in academic job hunting."
   ]
  },
  {
   "cell_type": "code",
   "execution_count": 12,
   "metadata": {},
   "outputs": [
    {
     "data": {
      "text/html": [
       "<div>\n",
       "<style scoped>\n",
       "    .dataframe tbody tr th:only-of-type {\n",
       "        vertical-align: middle;\n",
       "    }\n",
       "\n",
       "    .dataframe tbody tr th {\n",
       "        vertical-align: top;\n",
       "    }\n",
       "\n",
       "    .dataframe thead th {\n",
       "        text-align: right;\n",
       "    }\n",
       "</style>\n",
       "<table border=\"1\" class=\"dataframe\">\n",
       "  <thead>\n",
       "    <tr style=\"text-align: right;\">\n",
       "      <th></th>\n",
       "      <th>Applicant</th>\n",
       "      <th>Affiliation</th>\n",
       "      <th>Attempts</th>\n",
       "      <th>Offers</th>\n",
       "      <th>Success</th>\n",
       "      <th>Affiliation rank</th>\n",
       "      <th>Offers/candidate</th>\n",
       "      <th>Total successful candidates</th>\n",
       "      <th>Total unsuccessful candidates</th>\n",
       "      <th>Success odds</th>\n",
       "    </tr>\n",
       "  </thead>\n",
       "  <tbody>\n",
       "    <tr>\n",
       "      <td>0</td>\n",
       "      <td>Florencia Canelli</td>\n",
       "      <td>FNAL</td>\n",
       "      <td>15</td>\n",
       "      <td>7</td>\n",
       "      <td>1</td>\n",
       "      <td>1</td>\n",
       "      <td>0.892308</td>\n",
       "      <td>39</td>\n",
       "      <td>26</td>\n",
       "      <td>0.875</td>\n",
       "    </tr>\n",
       "    <tr>\n",
       "      <td>1</td>\n",
       "      <td>Sabine Lammers</td>\n",
       "      <td>Columbia</td>\n",
       "      <td>7</td>\n",
       "      <td>5</td>\n",
       "      <td>1</td>\n",
       "      <td>5</td>\n",
       "      <td>1.266667</td>\n",
       "      <td>12</td>\n",
       "      <td>3</td>\n",
       "      <td>2.500</td>\n",
       "    </tr>\n",
       "    <tr>\n",
       "      <td>2</td>\n",
       "      <td>Ben Kilminster</td>\n",
       "      <td>Ohio State</td>\n",
       "      <td>8</td>\n",
       "      <td>4</td>\n",
       "      <td>1</td>\n",
       "      <td>19</td>\n",
       "      <td>0.900000</td>\n",
       "      <td>4</td>\n",
       "      <td>6</td>\n",
       "      <td>1.000</td>\n",
       "    </tr>\n",
       "    <tr>\n",
       "      <td>3</td>\n",
       "      <td>Carter Hall</td>\n",
       "      <td>SLAC</td>\n",
       "      <td>5</td>\n",
       "      <td>4</td>\n",
       "      <td>1</td>\n",
       "      <td>7</td>\n",
       "      <td>0.888889</td>\n",
       "      <td>9</td>\n",
       "      <td>9</td>\n",
       "      <td>4.000</td>\n",
       "    </tr>\n",
       "    <tr>\n",
       "      <td>4</td>\n",
       "      <td>Eva Halkiadakis</td>\n",
       "      <td>Rochester</td>\n",
       "      <td>9</td>\n",
       "      <td>3</td>\n",
       "      <td>1</td>\n",
       "      <td>20</td>\n",
       "      <td>0.857143</td>\n",
       "      <td>4</td>\n",
       "      <td>3</td>\n",
       "      <td>0.500</td>\n",
       "    </tr>\n",
       "    <tr>\n",
       "      <td>...</td>\n",
       "      <td>...</td>\n",
       "      <td>...</td>\n",
       "      <td>...</td>\n",
       "      <td>...</td>\n",
       "      <td>...</td>\n",
       "      <td>...</td>\n",
       "      <td>...</td>\n",
       "      <td>...</td>\n",
       "      <td>...</td>\n",
       "      <td>...</td>\n",
       "    </tr>\n",
       "    <tr>\n",
       "      <td>688</td>\n",
       "      <td>Yoshikazu Nagai</td>\n",
       "      <td>UC Boulder</td>\n",
       "      <td>1</td>\n",
       "      <td>0</td>\n",
       "      <td>0</td>\n",
       "      <td>34</td>\n",
       "      <td>0.500000</td>\n",
       "      <td>3</td>\n",
       "      <td>3</td>\n",
       "      <td>0.000</td>\n",
       "    </tr>\n",
       "    <tr>\n",
       "      <td>689</td>\n",
       "      <td>Yusuke Koshio</td>\n",
       "      <td>University of Tokyo</td>\n",
       "      <td>1</td>\n",
       "      <td>0</td>\n",
       "      <td>0</td>\n",
       "      <td>146</td>\n",
       "      <td>0.000000</td>\n",
       "      <td>0</td>\n",
       "      <td>1</td>\n",
       "      <td>0.000</td>\n",
       "    </tr>\n",
       "    <tr>\n",
       "      <td>690</td>\n",
       "      <td>Zarko Pavlovic</td>\n",
       "      <td>LANL</td>\n",
       "      <td>1</td>\n",
       "      <td>0</td>\n",
       "      <td>0</td>\n",
       "      <td>22</td>\n",
       "      <td>0.666667</td>\n",
       "      <td>4</td>\n",
       "      <td>2</td>\n",
       "      <td>0.000</td>\n",
       "    </tr>\n",
       "    <tr>\n",
       "      <td>691</td>\n",
       "      <td>Zeynep Demeragli</td>\n",
       "      <td>MIT</td>\n",
       "      <td>1</td>\n",
       "      <td>0</td>\n",
       "      <td>0</td>\n",
       "      <td>6</td>\n",
       "      <td>0.608696</td>\n",
       "      <td>12</td>\n",
       "      <td>11</td>\n",
       "      <td>0.000</td>\n",
       "    </tr>\n",
       "    <tr>\n",
       "      <td>692</td>\n",
       "      <td>Zhengyun You</td>\n",
       "      <td>UC Irvine</td>\n",
       "      <td>1</td>\n",
       "      <td>0</td>\n",
       "      <td>0</td>\n",
       "      <td>139</td>\n",
       "      <td>0.000000</td>\n",
       "      <td>0</td>\n",
       "      <td>2</td>\n",
       "      <td>0.000</td>\n",
       "    </tr>\n",
       "  </tbody>\n",
       "</table>\n",
       "<p>693 rows × 10 columns</p>\n",
       "</div>"
      ],
      "text/plain": [
       "             Applicant          Affiliation  Attempts  Offers  Success  \\\n",
       "0    Florencia Canelli                 FNAL        15       7        1   \n",
       "1       Sabine Lammers             Columbia         7       5        1   \n",
       "2       Ben Kilminster           Ohio State         8       4        1   \n",
       "3          Carter Hall                 SLAC         5       4        1   \n",
       "4      Eva Halkiadakis            Rochester         9       3        1   \n",
       "..                 ...                  ...       ...     ...      ...   \n",
       "688    Yoshikazu Nagai           UC Boulder         1       0        0   \n",
       "689      Yusuke Koshio  University of Tokyo         1       0        0   \n",
       "690     Zarko Pavlovic                 LANL         1       0        0   \n",
       "691   Zeynep Demeragli                  MIT         1       0        0   \n",
       "692       Zhengyun You            UC Irvine         1       0        0   \n",
       "\n",
       "     Affiliation rank  Offers/candidate  Total successful candidates  \\\n",
       "0                   1          0.892308                           39   \n",
       "1                   5          1.266667                           12   \n",
       "2                  19          0.900000                            4   \n",
       "3                   7          0.888889                            9   \n",
       "4                  20          0.857143                            4   \n",
       "..                ...               ...                          ...   \n",
       "688                34          0.500000                            3   \n",
       "689               146          0.000000                            0   \n",
       "690                22          0.666667                            4   \n",
       "691                 6          0.608696                           12   \n",
       "692               139          0.000000                            0   \n",
       "\n",
       "     Total unsuccessful candidates  Success odds  \n",
       "0                               26         0.875  \n",
       "1                                3         2.500  \n",
       "2                                6         1.000  \n",
       "3                                9         4.000  \n",
       "4                                3         0.500  \n",
       "..                             ...           ...  \n",
       "688                              3         0.000  \n",
       "689                              1         0.000  \n",
       "690                              2         0.000  \n",
       "691                             11         0.000  \n",
       "692                              2         0.000  \n",
       "\n",
       "[693 rows x 10 columns]"
      ]
     },
     "execution_count": 12,
     "metadata": {},
     "output_type": "execute_result"
    }
   ],
   "source": [
    "ApplicantTableAllYearRanked = ApplicantTableAllYears.merge(UniversityTableAllYears[['Affiliation', 'Rank', 'Offers/candidate', 'Total successful candidates', 'Total unsuccessful candidates']], how='left', left_on='Affiliation', right_on='Affiliation')\n",
    "ApplicantTableAllYearRanked.rename(columns={'Rank':'Affiliation rank'}, inplace=True)\n",
    "ApplicantTableAllYearRanked['Success odds'] = ApplicantTableAllYearRanked['Offers']/(ApplicantTableAllYearRanked['Attempts'] - ApplicantTableAllYearRanked['Offers'])\n",
    "ApplicantTableAllYearRanked"
   ]
  },
  {
   "cell_type": "markdown",
   "metadata": {},
   "source": [
    "## Success odds vs. Affiliation metric"
   ]
  },
  {
   "cell_type": "markdown",
   "metadata": {},
   "source": [
    "Pearson correlation: "
   ]
  },
  {
   "cell_type": "code",
   "execution_count": 13,
   "metadata": {},
   "outputs": [
    {
     "data": {
      "text/html": [
       "<div>\n",
       "<style scoped>\n",
       "    .dataframe tbody tr th:only-of-type {\n",
       "        vertical-align: middle;\n",
       "    }\n",
       "\n",
       "    .dataframe tbody tr th {\n",
       "        vertical-align: top;\n",
       "    }\n",
       "\n",
       "    .dataframe thead th {\n",
       "        text-align: right;\n",
       "    }\n",
       "</style>\n",
       "<table border=\"1\" class=\"dataframe\">\n",
       "  <thead>\n",
       "    <tr style=\"text-align: right;\">\n",
       "      <th></th>\n",
       "      <th>Offers/candidate</th>\n",
       "      <th>Total successful candidates</th>\n",
       "      <th>Affiliation rank</th>\n",
       "      <th>Success odds</th>\n",
       "    </tr>\n",
       "  </thead>\n",
       "  <tbody>\n",
       "    <tr>\n",
       "      <td>Offers/candidate</td>\n",
       "      <td>1.000000</td>\n",
       "      <td>0.414271</td>\n",
       "      <td>-0.686715</td>\n",
       "      <td>0.341810</td>\n",
       "    </tr>\n",
       "    <tr>\n",
       "      <td>Total successful candidates</td>\n",
       "      <td>0.414271</td>\n",
       "      <td>1.000000</td>\n",
       "      <td>-0.588940</td>\n",
       "      <td>0.159448</td>\n",
       "    </tr>\n",
       "    <tr>\n",
       "      <td>Affiliation rank</td>\n",
       "      <td>-0.686715</td>\n",
       "      <td>-0.588940</td>\n",
       "      <td>1.000000</td>\n",
       "      <td>-0.235494</td>\n",
       "    </tr>\n",
       "    <tr>\n",
       "      <td>Success odds</td>\n",
       "      <td>0.341810</td>\n",
       "      <td>0.159448</td>\n",
       "      <td>-0.235494</td>\n",
       "      <td>1.000000</td>\n",
       "    </tr>\n",
       "  </tbody>\n",
       "</table>\n",
       "</div>"
      ],
      "text/plain": [
       "                             Offers/candidate  Total successful candidates  \\\n",
       "Offers/candidate                     1.000000                     0.414271   \n",
       "Total successful candidates          0.414271                     1.000000   \n",
       "Affiliation rank                    -0.686715                    -0.588940   \n",
       "Success odds                         0.341810                     0.159448   \n",
       "\n",
       "                             Affiliation rank  Success odds  \n",
       "Offers/candidate                    -0.686715      0.341810  \n",
       "Total successful candidates         -0.588940      0.159448  \n",
       "Affiliation rank                     1.000000     -0.235494  \n",
       "Success odds                        -0.235494      1.000000  "
      ]
     },
     "execution_count": 13,
     "metadata": {},
     "output_type": "execute_result"
    }
   ],
   "source": [
    "correlation = ApplicantTableAllYearRanked[['Offers/candidate' ,'Total successful candidates', 'Affiliation rank', 'Success odds']]\n",
    "correlation.corr()"
   ]
  },
  {
   "cell_type": "markdown",
   "metadata": {},
   "source": [
    "Offer/candidate has a higher correlation with success odds."
   ]
  },
  {
   "cell_type": "code",
   "execution_count": 14,
   "metadata": {},
   "outputs": [],
   "source": [
    "#Support Vector Regression\n",
    "from sklearn.svm import SVR, LinearSVR"
   ]
  },
  {
   "cell_type": "code",
   "execution_count": 15,
   "metadata": {},
   "outputs": [],
   "source": [
    "Y = np.array(ApplicantTableAllYearRanked['Success odds'].astype(float))\n",
    "Y = np.nan_to_num(Y)"
   ]
  },
  {
   "cell_type": "code",
   "execution_count": 16,
   "metadata": {},
   "outputs": [
    {
     "data": {
      "image/png": "[encoded data removed]",
      "text/plain": [
       "<Figure size 432x288 with 1 Axes>"
      ]
     },
     "metadata": {},
     "output_type": "display_data"
    }
   ],
   "source": [
    "plt.scatter(ApplicantTableAllYearRanked['Affiliation rank'], ApplicantTableAllYearRanked['Success odds'], alpha=0.5, color='blue', marker='.', label='data')\n",
    "plt.xlabel('Affiliation rank')\n",
    "plt.ylabel('Success odds')\n",
    "plt.xlim([-0.01,160])\n",
    "plt.ylim([-0.01,4.5])\n",
    "plt.legend()\n",
    "plt.show()"
   ]
  },
  {
   "cell_type": "code",
   "execution_count": 17,
   "metadata": {},
   "outputs": [
    {
     "data": {
      "image/png": "[encoded data removed]",
      "text/plain": [
       "<Figure size 432x288 with 1 Axes>"
      ]
     },
     "metadata": {},
     "output_type": "display_data"
    }
   ],
   "source": [
    "plt.scatter(ApplicantTableAllYearRanked['Total successful candidates'], ApplicantTableAllYearRanked['Success odds'], alpha=0.5, color='blue', marker='.', label='data')\n",
    "plt.xlabel('Total successful candidates')\n",
    "plt.ylabel('Success odds')\n",
    "plt.xlim([-1,40])\n",
    "plt.ylim([-0.1,4.5])\n",
    "plt.legend()\n",
    "plt.show()"
   ]
  },
  {
   "cell_type": "code",
   "execution_count": 18,
   "metadata": {
    "scrolled": true
   },
   "outputs": [
    {
     "name": "stderr",
     "output_type": "stream",
     "text": [
      "/home/sourav/.local/lib/python3.6/site-packages/numpy/core/fromnumeric.py:90: RuntimeWarning: overflow encountered in reduce\n",
      "  return ufunc.reduce(obj, axis, dtype, out, **passkwargs)\n"
     ]
    },
    {
     "data": {
      "image/png": "[encoded data removed]",
      "text/plain": [
       "<Figure size 432x288 with 1 Axes>"
      ]
     },
     "metadata": {},
     "output_type": "display_data"
    }
   ],
   "source": [
    "plt.scatter(ApplicantTableAllYearRanked['Offers/candidate'], ApplicantTableAllYearRanked['Success odds'], alpha=0.5, color='blue', marker='.', label='data')\n",
    "plt.xlabel('Offers/candidate')\n",
    "plt.ylabel('Success odds')\n",
    "plt.xlim([-0.1,1.4])\n",
    "plt.ylim([-0.1,4.5])\n",
    "\n",
    "X = np.array(ApplicantTableAllYearRanked[['Offers/candidate']].astype(float))\n",
    "X = np.nan_to_num(X)\n",
    "\n",
    "Z = np.array(ApplicantTableAllYearRanked[['Offers/candidate', 'Total successful candidates']].astype(float))\n",
    "\n",
    "\n",
    "svr_linOfferDensity = LinearSVR(random_state=0, tol=1e-5)\n",
    "#svr_rbf = SVR(kernel='rbf', C=1e3, gamma=0.1)\n",
    "\n",
    "Y_svrlinOfferDensity = svr_linOfferDensity.fit(X, Y).predict(X)\n",
    "#Y_rbf = svr_rbf.fit(Z, Y).predict(Z)\n",
    "\n",
    "plt.plot(X, Y_svrlinOfferDensity, color='green', lw=1, label='Linear fit (only Offers/candidate)')\n",
    "#plt.plot(X, Y_rbf, color='black', lw=1, label='rbf model')\n",
    "plt.legend()\n",
    "plt.show()"
   ]
  },
  {
   "cell_type": "markdown",
   "metadata": {},
   "source": [
    "## Success vs. Affiliation metric"
   ]
  },
  {
   "cell_type": "code",
   "execution_count": 19,
   "metadata": {},
   "outputs": [
    {
     "data": {
      "text/plain": [
       "<matplotlib.axes._subplots.AxesSubplot at 0x7fd76e2cc470>"
      ]
     },
     "execution_count": 19,
     "metadata": {},
     "output_type": "execute_result"
    },
    {
     "data": {
      "image/png": "[encoded data removed]",
      "text/plain": [
       "<Figure size 432x288 with 1 Axes>"
      ]
     },
     "metadata": {},
     "output_type": "display_data"
    }
   ],
   "source": [
    "ApplicantTableAllYearRanked.plot(x='Affiliation rank', y='Success', style='.', alpha = 0.2)"
   ]
  },
  {
   "cell_type": "code",
   "execution_count": 20,
   "metadata": {},
   "outputs": [
    {
     "data": {
      "text/plain": [
       "<matplotlib.axes._subplots.AxesSubplot at 0x7fd76b992fd0>"
      ]
     },
     "execution_count": 20,
     "metadata": {},
     "output_type": "execute_result"
    },
    {
     "data": {
      "image/png": "[encoded data removed]",
      "text/plain": [
       "<Figure size 432x288 with 1 Axes>"
      ]
     },
     "metadata": {},
     "output_type": "display_data"
    }
   ],
   "source": [
    "ApplicantTableAllYearRanked.plot(x='Total successful candidates', y='Success', style='o', alpha = 0.1)"
   ]
  },
  {
   "cell_type": "code",
   "execution_count": 21,
   "metadata": {},
   "outputs": [
    {
     "data": {
      "image/png": "[encoded data removed]",
      "text/plain": [
       "<Figure size 432x288 with 1 Axes>"
      ]
     },
     "metadata": {},
     "output_type": "display_data"
    }
   ],
   "source": [
    "t = ApplicantTableAllYearRanked[['Total successful candidates', 'Success']]\n",
    "t = t.sort_values(by=['Total successful candidates'], ascending=False)\n",
    "tsuccess = t[t['Success'] == 1]\n",
    "tfailure = t[t['Success'] == 0]\n",
    "\n",
    "bins=3\n",
    "plt.hist(tsuccess['Total successful candidates'], bins, alpha=0.3, label='Success')\n",
    "plt.hist(tfailure['Total successful candidates'], bins, alpha=0.3, label='Failure')\n",
    "\n",
    "plt.xlabel('Total successful candidates')\n",
    "plt.ylabel('frequency')\n",
    "plt.legend(loc='best')\n",
    "plt.show()"
   ]
  },
  {
   "cell_type": "code",
   "execution_count": 22,
   "metadata": {},
   "outputs": [
    {
     "data": {
      "text/plain": [
       "<matplotlib.axes._subplots.AxesSubplot at 0x7fd76b9c8438>"
      ]
     },
     "execution_count": 22,
     "metadata": {},
     "output_type": "execute_result"
    },
    {
     "data": {
      "image/png": "[encoded data removed]",
      "text/plain": [
       "<Figure size 432x288 with 1 Axes>"
      ]
     },
     "metadata": {},
     "output_type": "display_data"
    }
   ],
   "source": [
    "ApplicantTableAllYearRanked.plot(x='Offers/candidate', y='Success', style='.', alpha = 0.2)"
   ]
  },
  {
   "cell_type": "code",
   "execution_count": 23,
   "metadata": {},
   "outputs": [
    {
     "data": {
      "image/png": "[encoded data removed]",
      "text/plain": [
       "<Figure size 432x288 with 1 Axes>"
      ]
     },
     "metadata": {},
     "output_type": "display_data"
    }
   ],
   "source": [
    "t = ApplicantTableAllYearRanked[['Offers/candidate', 'Success']]\n",
    "t = t.sort_values(by=['Offers/candidate'], ascending=False)\n",
    "tsuccess = t[t['Success'] == 1]\n",
    "tfailure = t[t['Success'] == 0]\n",
    "\n",
    "bins=3\n",
    "plt.hist(tsuccess['Offers/candidate'], bins, alpha=0.3, label='Success')\n",
    "plt.hist(tfailure['Offers/candidate'], bins, alpha=0.3, label='Failure')\n",
    "\n",
    "plt.xlabel('Offers/candidate')\n",
    "plt.ylabel('frequency')\n",
    "plt.legend(loc='best')\n",
    "plt.show()"
   ]
  },
  {
   "cell_type": "markdown",
   "metadata": {},
   "source": [
    "Offer/candidate has a fair discriminating power between success and failure cases."
   ]
  },
  {
   "cell_type": "code",
   "execution_count": 24,
   "metadata": {},
   "outputs": [
    {
     "name": "stderr",
     "output_type": "stream",
     "text": [
      "/home/sourav/.local/lib/python3.6/site-packages/sklearn/linear_model/logistic.py:432: FutureWarning: Default solver will be changed to 'lbfgs' in 0.22. Specify a solver to silence this warning.\n",
      "  FutureWarning)\n"
     ]
    },
    {
     "data": {
      "text/plain": [
       "0.5844155844155844"
      ]
     },
     "execution_count": 24,
     "metadata": {},
     "output_type": "execute_result"
    }
   ],
   "source": [
    "logisticRegr = LogisticRegression()\n",
    "logisticRegr.fit(ApplicantTableAllYearRanked[['Affiliation rank']], ApplicantTableAllYearRanked['Success'])\n",
    "logisticRegr.score(ApplicantTableAllYearRanked[['Affiliation rank']], ApplicantTableAllYearRanked['Success'])"
   ]
  },
  {
   "cell_type": "code",
   "execution_count": 25,
   "metadata": {},
   "outputs": [
    {
     "name": "stderr",
     "output_type": "stream",
     "text": [
      "/home/sourav/.local/lib/python3.6/site-packages/sklearn/linear_model/logistic.py:432: FutureWarning: Default solver will be changed to 'lbfgs' in 0.22. Specify a solver to silence this warning.\n",
      "  FutureWarning)\n"
     ]
    },
    {
     "data": {
      "text/plain": [
       "0.6536796536796536"
      ]
     },
     "execution_count": 25,
     "metadata": {},
     "output_type": "execute_result"
    }
   ],
   "source": [
    "logisticRegr = LogisticRegression()\n",
    "logisticRegr.fit(ApplicantTableAllYearRanked[['Affiliation rank', 'Offers/candidate', 'Total successful candidates']], ApplicantTableAllYearRanked['Success'])\n",
    "logisticRegr.score(ApplicantTableAllYearRanked[['Affiliation rank', 'Offers/candidate', 'Total successful candidates']], ApplicantTableAllYearRanked['Success'])"
   ]
  },
  {
   "cell_type": "code",
   "execution_count": 26,
   "metadata": {},
   "outputs": [
    {
     "name": "stderr",
     "output_type": "stream",
     "text": [
      "/home/sourav/.local/lib/python3.6/site-packages/sklearn/linear_model/logistic.py:432: FutureWarning: Default solver will be changed to 'lbfgs' in 0.22. Specify a solver to silence this warning.\n",
      "  FutureWarning)\n"
     ]
    },
    {
     "data": {
      "text/plain": [
       "0.5526695526695526"
      ]
     },
     "execution_count": 26,
     "metadata": {},
     "output_type": "execute_result"
    }
   ],
   "source": [
    "logisticRegr = LogisticRegression()\n",
    "logisticRegr.fit(ApplicantTableAllYearRanked[['Total successful candidates']], ApplicantTableAllYearRanked['Success'])\n",
    "logisticRegr.score(ApplicantTableAllYearRanked[['Total successful candidates']], ApplicantTableAllYearRanked['Success'])"
   ]
  },
  {
   "cell_type": "code",
   "execution_count": 27,
   "metadata": {},
   "outputs": [
    {
     "name": "stderr",
     "output_type": "stream",
     "text": [
      "/home/sourav/.local/lib/python3.6/site-packages/sklearn/linear_model/logistic.py:432: FutureWarning: Default solver will be changed to 'lbfgs' in 0.22. Specify a solver to silence this warning.\n",
      "  FutureWarning)\n"
     ]
    },
    {
     "data": {
      "text/plain": [
       "0.6551226551226551"
      ]
     },
     "execution_count": 27,
     "metadata": {},
     "output_type": "execute_result"
    }
   ],
   "source": [
    "logisticRegr = LogisticRegression()\n",
    "logisticRegr.fit(ApplicantTableAllYearRanked[['Total successful candidates', 'Offers/candidate']], ApplicantTableAllYearRanked['Success'])\n",
    "logisticRegr.score(ApplicantTableAllYearRanked[['Total successful candidates', 'Offers/candidate']], ApplicantTableAllYearRanked['Success'])"
   ]
  },
  {
   "cell_type": "code",
   "execution_count": 28,
   "metadata": {},
   "outputs": [
    {
     "name": "stderr",
     "output_type": "stream",
     "text": [
      "/home/sourav/.local/lib/python3.6/site-packages/sklearn/linear_model/logistic.py:432: FutureWarning: Default solver will be changed to 'lbfgs' in 0.22. Specify a solver to silence this warning.\n",
      "  FutureWarning)\n"
     ]
    },
    {
     "data": {
      "text/plain": [
       "0.6551226551226551"
      ]
     },
     "execution_count": 28,
     "metadata": {},
     "output_type": "execute_result"
    }
   ],
   "source": [
    "logisticRegr = LogisticRegression()\n",
    "logisticRegr.fit(ApplicantTableAllYearRanked[['Offers/candidate']], ApplicantTableAllYearRanked['Success'])\n",
    "logisticRegr.score(ApplicantTableAllYearRanked[['Offers/candidate']], ApplicantTableAllYearRanked['Success'])"
   ]
  },
  {
   "cell_type": "markdown",
   "metadata": {},
   "source": [
    "'Total successful candidates' metric does not provide any additional discriminating power than 'Offers/candidate' metric. \n",
    "\n",
    "To get an intuition of why 'Offers/candidate' metric is a good indicator of postdoc success, let's look at the actual distribution of number of offer of a hep-ex postdoc:"
   ]
  },
  {
   "cell_type": "code",
   "execution_count": 29,
   "metadata": {},
   "outputs": [
    {
     "data": {
      "text/plain": [
       "<matplotlib.axes._subplots.AxesSubplot at 0x7fd76b86f2b0>"
      ]
     },
     "execution_count": 29,
     "metadata": {},
     "output_type": "execute_result"
    },
    {
     "data": {
      "image/png": "[encoded data removed]",
      "text/plain": [
       "<Figure size 432x288 with 1 Axes>"
      ]
     },
     "metadata": {},
     "output_type": "display_data"
    }
   ],
   "source": [
    "ApplicantTableAllYearRanked['Offers'].hist(bins=10)"
   ]
  },
  {
   "cell_type": "markdown",
   "metadata": {},
   "source": [
    "Since most postdocs in hep-ex typically do not receive more than 1 offer, 'Offers/candidate' (ie the avg. number of offers by a postdoc from a given afiliation (university/lab), actually represents the number of successful postdocs of that affiliation."
   ]
  },
  {
   "cell_type": "markdown",
   "metadata": {},
   "source": [
    "## Summary\n",
    "* Hence, 'Offers/candidate' is the best metric to indicate if a university/lab produces successful postdocs.\n",
    "* According to 'Offers/candidate' metric Columbia University is the best university to do a hep-ex postdoc."
   ]
  },
  {
   "cell_type": "markdown",
   "metadata": {},
   "source": [
    "# Next steps\n",
    "\n",
    "* temporal variations in hep-ex job market not taken into account\n",
    "* US and non-US jobs to be treated separately\n",
    "* should separate the study into energy, intensity and cosmic frontiers, as the job trends and funding are different for each\n",
    "* think of other metrics"
   ]
  }
 ],
 "metadata": {
  "kernelspec": {
   "display_name": "Python 3",
   "language": "python",
   "name": "python3"
  },
  "language_info": {
   "codemirror_mode": {
    "name": "ipython",
    "version": 3
   },
   "file_extension": ".py",
   "mimetype": "text/x-python",
   "name": "python",
   "nbconvert_exporter": "python",
   "pygments_lexer": "ipython3",
   "version": "3.6.8"
  }
 },
 "nbformat": 4,
 "nbformat_minor": 2
}
